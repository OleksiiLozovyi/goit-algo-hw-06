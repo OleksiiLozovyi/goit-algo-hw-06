{
  "nbformat": 4,
  "nbformat_minor": 0,
  "metadata": {
    "colab": {
      "provenance": [],
      "authorship_tag": "ABX9TyN4yvsIeJmliLCZTeWaflfj",
      "include_colab_link": true
    },
    "kernelspec": {
      "name": "python3",
      "display_name": "Python 3"
    },
    "language_info": {
      "name": "python"
    }
  },
  "cells": [
    {
      "cell_type": "markdown",
      "metadata": {
        "id": "view-in-github",
        "colab_type": "text"
      },
      "source": [
        "<a href=\"https://colab.research.google.com/github/OleksiiLozovyi/goit-algo-hw-06/blob/master/Hw3.ipynb\" target=\"_parent\"><img src=\"https://colab.research.google.com/assets/colab-badge.svg\" alt=\"Open In Colab\"/></a>"
      ]
    },
    {
      "cell_type": "code",
      "execution_count": 79,
      "metadata": {
        "id": "G332td4X_Me7"
      },
      "outputs": [],
      "source": [
        "import numpy as np\n",
        "import pandas as pd\n",
        "from sklearn.preprocessing import StandardScaler\n",
        "from sklearn.linear_model import LinearRegression\n",
        "from sklearn.metrics import mean_squared_error, r2_score"
      ]
    },
    {
      "cell_type": "code",
      "source": [
        "url_csv = \"https://docs.google.com/spreadsheets/d/1uGil9wxywfJuA6PjWO-jvFpWdSusqeOS9Ci99t_Q7sE/export?format=csv&gid=648241523\"\n",
        "df = pd.read_csv(url_csv)\n",
        "print(df.head())"
      ],
      "metadata": {
        "id": "qWOPtZERF5SW"
      },
      "execution_count": null,
      "outputs": []
    },
    {
      "cell_type": "code",
      "source": [
        "def hypothesis(x, y):\n",
        "    regression = np.dot(x, y)\n",
        "    print(regression)\n",
        "    return regression\n",
        "\n",
        "x = np.array([1.5, 0.8, -0.3])\n",
        "y = np.array([1, 1.5, 3.0])\n",
        "\n",
        "regression_result = hypothesis(x, y)\n",
        "print(regression_result)"
      ],
      "metadata": {
        "id": "s_YwWa3i_Viq"
      },
      "execution_count": null,
      "outputs": []
    },
    {
      "cell_type": "code",
      "source": [
        "def loss_function(x, y, w):\n",
        "    y_pred = np.dot(x, w)\n",
        "    mse = np.mean((y - y_pred) ** 2)\n",
        "    print(mse)\n",
        "    return mse"
      ],
      "metadata": {
        "id": "lUhUqoSjB0yH"
      },
      "execution_count": 66,
      "outputs": []
    },
    {
      "cell_type": "code",
      "source": [
        "def gradient_step(x, y, w, learning_rate=0.01):\n",
        "    y_pred = np.dot(x, w)\n",
        "\n",
        "    gradient = -2 * np.dot(x, (y - y_pred)) / len(y)\n",
        "    w_new = w - learning_rate * gradient\n",
        "\n",
        "    loss_new = loss_function(x, y, w_new)\n",
        "\n",
        "    print(\"Нова функція втрат:\", loss_new)\n",
        "    print(\"Оновлене значення w:\", w_new)\n",
        "\n",
        "    return w_new, loss_new\n",
        "\n",
        "x = np.array([0.5, 1.2, -0.3])\n",
        "y = np.array([1, 2.5, 3.0])\n",
        "\n",
        "w_initial = 0.1\n",
        "\n",
        "w_updated, loss_updated = gradient_step(x, y, w_initial, learning_rate=0.01)"
      ],
      "metadata": {
        "id": "1bGZXZFEDXLU"
      },
      "execution_count": null,
      "outputs": []
    },
    {
      "cell_type": "code",
      "source": [
        "scaler = StandardScaler()\n",
        "x = scaler.fit_transform(x)\n",
        "\n",
        "x = np.c_[np.ones(x.shape[0]), x]\n",
        "\n",
        "def loss_function(x, y, w):\n",
        "    y_pred = np.dot(x, w)\n",
        "    mse = np.mean((y - y_pred) ** 2)\n",
        "    return mse\n",
        "\n",
        "def gradient_step(x, y, w, learning_rate=0.01):\n",
        "    y_pred = np.dot(x, w)\n",
        "    gradient = -2 * np.dot(x.T, (y - y_pred)) / len(y)\n",
        "    w_new = w - learning_rate * gradient\n",
        "\n",
        "    np.clip(w_new, -10, 10, out=w_new)\n",
        "\n",
        "    loss_new = loss_function(x, y, w_new)\n",
        "    return w_new, loss_new\n",
        "\n",
        "w_initial = np.random.randn(x.shape[1]) * 0.01\n",
        "\n",
        "learning_rate = 0.001\n",
        "iterations = 1000\n",
        "\n",
        "for i in range(iterations):\n",
        "    w_initial, loss = gradient_step(x, y, w_initial, learning_rate)\n",
        "    if i % 100 == 0:\n",
        "        print(f\"Iteration {i}, Loss: {loss}\")\n",
        "\n",
        "print(\"Оптимальні параметри w:\", w_initial)"
      ],
      "metadata": {
        "colab": {
          "base_uri": "https://localhost:8080/"
        },
        "id": "joFFElQzJtCE",
        "outputId": "c537f099-cf45-4ca3-98e6-1669d88314ef"
      },
      "execution_count": 80,
      "outputs": [
        {
          "output_type": "stream",
          "name": "stdout",
          "text": [
            "Iteration 0, Loss: 26213684322177.125\n",
            "Iteration 100, Loss: 26213684322177.125\n",
            "Iteration 200, Loss: 26213684322177.125\n",
            "Iteration 300, Loss: 26213684322177.125\n",
            "Iteration 400, Loss: 26213684322177.125\n",
            "Iteration 500, Loss: 26213684322177.125\n",
            "Iteration 600, Loss: 26213684322177.125\n",
            "Iteration 700, Loss: 26213684322177.125\n",
            "Iteration 800, Loss: 26213684322177.125\n",
            "Iteration 900, Loss: 26213684322177.125\n",
            "Оптимальні параметри w: [1.00000000e+01 3.91598652e-03 1.00000000e+01 1.00000000e+01\n",
            " 1.00000000e+01]\n"
          ]
        }
      ]
    },
    {
      "cell_type": "code",
      "source": [
        "x = df[['area', 'bathrooms', 'bedrooms']].values\n",
        "y = df['price'].values\n",
        "\n",
        "scaler = StandardScaler()\n",
        "x = scaler.fit_transform(x)\n",
        "\n",
        "x = np.c_[np.ones(x.shape[0]), x]\n",
        "\n",
        "x_tr = x.T\n",
        "w_optimal = np.linalg.inv(x_tr.dot(x)).dot(x_tr).dot(y)\n",
        "\n",
        "print(\"Оптимальні параметри w (аналітичним методом):\", w_optimal)"
      ],
      "metadata": {
        "colab": {
          "base_uri": "https://localhost:8080/"
        },
        "id": "STVJdjUhL27r",
        "outputId": "68eed611-18ee-439f-d0af-34fa0d9c5e83"
      },
      "execution_count": 82,
      "outputs": [
        {
          "output_type": "stream",
          "name": "stdout",
          "text": [
            "Оптимальні параметри w (аналітичним методом): [4766729.24770642  821214.14349519  695808.52272538  299983.57107963]\n"
          ]
        }
      ]
    },
    {
      "cell_type": "markdown",
      "source": [],
      "metadata": {
        "id": "sCeymVQPL5ia"
      }
    },
    {
      "cell_type": "code",
      "source": [
        "x = df[['area', 'bathrooms', 'bedrooms']].values\n",
        "y = df['price'].values\n",
        "scaler = StandardScaler()\n",
        "x = scaler.fit_transform(x)\n",
        "\n",
        "x = np.c_[np.ones(x.shape[0]), x]\n",
        "\n",
        "x_transpose = x.T\n",
        "w_optimal = np.linalg.inv(x_transpose.dot(x)).dot(x_transpose).dot(y)\n",
        "\n",
        "print(\"Оптимальні параметри w (аналітичним методом):\", w_optimal)\n",
        "\n",
        "lr = LinearRegression(fit_intercept=False)\n",
        "lr.fit(x, y)\n",
        "\n",
        "y_pred_analytical = np.dot(x, w_optimal)\n",
        "y_pred_sklearn = lr.predict(x)\n",
        "\n",
        "mse_analytical = mean_squared_error(y, y_pred_analytical)\n",
        "mse_sklearn = mean_squared_error(y, y_pred_sklearn)\n",
        "\n",
        "r2_analytical = r2_score(y, y_pred_analytical)\n",
        "r2_sklearn = r2_score(y, y_pred_sklearn)\n",
        "\n",
        "print(f\"MSE (аналітичне рішення): {mse_analytical}\")\n",
        "print(f\"MSE (scikit-learn): {mse_sklearn}\")\n",
        "print(f\"R^2 (аналітичне рішення): {r2_analytical}\")\n",
        "print(f\"R^2 (scikit-learn): {r2_sklearn}\")"
      ],
      "metadata": {
        "colab": {
          "base_uri": "https://localhost:8080/"
        },
        "id": "WbGMehyMMXRv",
        "outputId": "447fe12d-44bc-4ea7-9448-295694042774"
      },
      "execution_count": 85,
      "outputs": [
        {
          "output_type": "stream",
          "name": "stdout",
          "text": [
            "Оптимальні параметри w (аналітичним методом): [4766729.24770642  821214.14349519  695808.52272538  299983.57107963]\n",
            "MSE (аналітичне рішення): 1791170049977.3193\n",
            "MSE (scikit-learn): 1791170049977.3193\n",
            "R^2 (аналітичне рішення): 0.4870830667058762\n",
            "R^2 (scikit-learn): 0.4870830667058762\n"
          ]
        }
      ]
    }
  ]
}